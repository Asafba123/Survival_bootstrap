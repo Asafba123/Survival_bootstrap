{
 "cells": [
  {
   "cell_type": "code",
   "execution_count": 1,
   "id": "f3c48ea6",
   "metadata": {},
   "outputs": [],
   "source": [
    "import json\n",
    "import numpy as np\n",
    "import pandas as pd\n",
    "from boot_util import *\n",
    "import sklearn\n",
    "from sklearn.model_selection import train_test_split\n",
    "import os\n",
    "\n",
    "import warnings\n",
    "warnings.filterwarnings('ignore')"
   ]
  },
  {
   "cell_type": "code",
   "execution_count": 2,
   "id": "c2c4c70c",
   "metadata": {},
   "outputs": [],
   "source": [
    "conf_file = \"conf_1.json\""
   ]
  },
  {
   "cell_type": "code",
   "execution_count": 3,
   "id": "5ba6c0ea",
   "metadata": {},
   "outputs": [],
   "source": [
    "def sample(n,sample_type=\"LPH\"):\n",
    "    if sample_type == \"LPH\":\n",
    "        #phaz = 0.1*np.exp((0.44*X1 + 0.66*X2 + 0.88*X3))\n",
    "        simulator = SimStudyLinearPH()\n",
    "    elif sample_type == \"NLPH\":\n",
    "        #phaz = 0.1*np.exp((0.44*X1 + 0.66*X2 + 0.88*X3 + X1*X1 + X3*X3 + X1*X2 + X1*X3 + X2*X3))\n",
    "        simulator = SimStudyNonLinearPH()\n",
    "    elif sample_type == \"NLNPH\":\n",
    "        simulator = SimStudyNonLinearNonPH_smooth()\n",
    "    elif sample_type == \"Deep1\":\n",
    "        simulator = SimStudyDeep1()\n",
    "    elif sample_type == \"Deep2\":\n",
    "        simulator = SimStudyDeep2()\n",
    "    else:\n",
    "        raise Exception(\"Unkowne sample method\")\n",
    "\n",
    "    smp = simulator.simulate(n)\n",
    "    if sample_type == \"Deep1\" or sample_type == \"Deep2\":\n",
    "        ret = pd.DataFrame(smp[\"covs\"],columns=[\"X1\",\"X2\",\"X3\",\"X4\",\"X5\"])\n",
    "    else:\n",
    "        ret = pd.DataFrame(smp[\"covs\"],columns=[\"X1\",\"X2\",\"X3\"])\n",
    "    ret[\"duration\"] = smp[\"durations\"]\n",
    "    ret[\"event\"] = smp[\"events\"]\n",
    "    return ret"
   ]
  },
  {
   "cell_type": "code",
   "execution_count": 4,
   "id": "177efd27",
   "metadata": {},
   "outputs": [],
   "source": [
    "def get_out_dir_path(conf):\n",
    "    return f\"{conf['out_dir']}/{conf['sample_type']}_n_{conf['n_train']}_p_{conf['patience']}_s_{conf['seed']}_c_{conf['control']}_p_{conf['m']}_d_{conf['depth']}_w_{conf['layer_size']}\""
   ]
  },
  {
   "cell_type": "code",
   "execution_count": 5,
   "id": "b969b3b6",
   "metadata": {},
   "outputs": [],
   "source": [
    "confs = json.loads(open(conf_file,\"r\").read())"
   ]
  },
  {
   "cell_type": "code",
   "execution_count": 6,
   "id": "0cdab8e2",
   "metadata": {},
   "outputs": [
    {
     "data": {
      "text/plain": [
       "[{'n_train': 10000,\n",
       "  'n_test': 1000,\n",
       "  'n_boot': 200,\n",
       "  'n_samp': 100,\n",
       "  'grid': [0.0, 27, 0.1],\n",
       "  'patience': 25,\n",
       "  'control': 1,\n",
       "  'out_dir': '../sims/',\n",
       "  'seed': 1,\n",
       "  'sample_type': 'NLNPH',\n",
       "  'm': 100,\n",
       "  'validation_ratio': 0.2,\n",
       "  'dropout': 0.1,\n",
       "  'layer_size': 128,\n",
       "  'depth': 6,\n",
       "  'batch_size': 1000,\n",
       "  'cols_standardize': [],\n",
       "  'cols_leave': ['X1', 'X2', 'X3']}]"
      ]
     },
     "execution_count": 6,
     "metadata": {},
     "output_type": "execute_result"
    }
   ],
   "source": [
    "confs"
   ]
  },
  {
   "cell_type": "code",
   "execution_count": null,
   "id": "df8bad30",
   "metadata": {},
   "outputs": [
    {
     "name": "stdout",
     "output_type": "stream",
     "text": [
      "{'n_train': 10000, 'n_test': 1000, 'n_boot': 200, 'n_samp': 100, 'grid': [0.0, 27, 0.1], 'patience': 25, 'control': 1, 'out_dir': '../sims/', 'seed': 1, 'sample_type': 'NLNPH', 'm': 100, 'validation_ratio': 0.2, 'dropout': 0.1, 'layer_size': 128, 'depth': 6, 'batch_size': 1000, 'cols_standardize': [], 'cols_leave': ['X1', 'X2', 'X3']}\n"
     ]
    }
   ],
   "source": [
    "for conf in confs:\n",
    "    print(conf)\n",
    "    cols_standardize = conf[\"cols_standardize\"]\n",
    "    cols_leave = conf[\"cols_leave\"]\n",
    "    np.random.seed(conf[\"seed\"])\n",
    "    _ = torch.manual_seed(conf[\"seed\"])\n",
    "    grid_start, grid_end, grid_step = conf[\"grid\"]\n",
    "    grid = np.arange(grid_start,grid_end,grid_step)\n",
    "    base_dir = get_out_dir_path(conf)\n",
    "    try:\n",
    "        os.mkdir(base_dir)\n",
    "    except:\n",
    "        pass\n",
    "    \n",
    "    df_test = sample(conf[\"n_test\"],conf[\"sample_type\"])\n",
    "    \n",
    "    df_test.to_csv(f\"{base_dir}/test.csv\",compression=\"gzip\")\n",
    "    df_test = pd.read_csv(f\"{base_dir}/test.csv\",compression=\"gzip\")\n",
    "    n_samp = conf[\"n_samp\"]\n",
    "    \n",
    "    for j in range(0,n_samp):\n",
    "            np.random.seed(conf[\"seed\"] + j)\n",
    "            _ = torch.manual_seed(conf[\"seed\"] + j)\n",
    "            df_train = sample(conf[\"n_train\"],conf[\"sample_type\"])\n",
    "            df_train.to_csv(f\"{base_dir}/train_{j}.csv\",compression=\"gzip\")\n",
    "            df_train,df_val = sklearn.model_selection.train_test_split(df_train,test_size=conf['validation_ratio'])\n",
    "            for i in range(conf[\"n_boot\"]):\n",
    "                if i == 0:\n",
    "                    df_train_boot =  df_train\n",
    "                    df_val_boot = df_val                    \n",
    "                    n_fold = conf[\"m\"]\n",
    "                else:\n",
    "                    df_train_boot = df_train.sample(df_train.shape[0],replace=True,axis=0)\n",
    "                    #df_val_boot = df_val.sample(df_val.shape[0],replace=True,axis=0)\n",
    "                    df_val_boot = df_val\n",
    "                    n_fold = 1\n",
    "    \n",
    "                trans = get_transformers(df_train_boot,cols_standardize,cols_leave)            \n",
    "                nets = []\n",
    "                for k in range(n_fold):\n",
    "                    model = train_model(conf,df_train_boot,df_val_boot,trans,verbose=False)\n",
    "                    if i == 0 and k == 0:\n",
    "                        get_test_avg_srv(conf,[model],df_train_boot,df_test,trans).to_csv(f\"{base_dir}/theta_{j}.csv\",compression=\"gzip\")                       \n",
    "                    nets += [model]\n",
    "    \n",
    "                get_test_avg_srv(conf,nets,df_train_boot,df_test,trans).to_csv(f\"{base_dir}/res_boot_samp_{j}_boot_{i}.csv\",compression=\"gzip\")"
   ]
  },
  {
   "cell_type": "code",
   "execution_count": null,
   "id": "6cd87b79",
   "metadata": {},
   "outputs": [],
   "source": [
    "pd.DataFrame(res)"
   ]
  }
 ],
 "metadata": {
  "kernelspec": {
   "display_name": "Python 3 (ipykernel)",
   "language": "python",
   "name": "python3"
  },
  "language_info": {
   "codemirror_mode": {
    "name": "ipython",
    "version": 3
   },
   "file_extension": ".py",
   "mimetype": "text/x-python",
   "name": "python",
   "nbconvert_exporter": "python",
   "pygments_lexer": "ipython3",
   "version": "3.8.18"
  }
 },
 "nbformat": 4,
 "nbformat_minor": 5
}
